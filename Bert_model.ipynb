{
 "cells": [
  {
   "cell_type": "code",
   "execution_count": 2,
   "id": "1ffcc62a",
   "metadata": {},
   "outputs": [],
   "source": [
    "%load_ext blackcellmagic"
   ]
  },
  {
   "cell_type": "code",
   "execution_count": 360,
   "id": "7345e0e9",
   "metadata": {},
   "outputs": [],
   "source": [
    "import torch\n",
    "from torch import nn\n",
    "from torch.nn import functional as F\n",
    "from torch.utils.data import DataLoader\n",
    "from torch.utils.data import random_split\n",
    "from torchvision.datasets import MNIST\n",
    "from torchvision import transforms\n",
    "import pytorch_lightning as pl\n",
    "import pandas as pd\n",
    "import numpy as np\n",
    "from tqdm.auto import tqdm\n",
    "import torch\n",
    "import torch.nn as nn\n",
    "from torch.utils.data import Dataset, DataLoader\n",
    "from transformers import BertTokenizerFast as BertTokenizer, BertModel, AdamW, get_linear_schedule_with_warmup\n",
    "import pytorch_lightning as pl\n",
    "from torchmetrics.functional import accuracy, auroc #,f1\n",
    "#from pytorch_lightning.metrics.functional import accuracy, f1, auroc\n",
    "from pytorch_lightning.callbacks import ModelCheckpoint, EarlyStopping\n",
    "from pytorch_lightning.loggers import TensorBoardLogger\n",
    "from sklearn.model_selection import train_test_split\n",
    "from sklearn.metrics import classification_report, multilabel_confusion_matrix\n",
    "import seaborn as sns\n",
    "from pylab import rcParams\n",
    "import matplotlib.pyplot as plt\n",
    "from matplotlib import rc\n",
    "%matplotlib inline\n",
    "%config InlineBackend.figure_format='retina'\n",
    "import os\n",
    "import glob\n",
    "import pandas as pd\n",
    "import numpy as np\n",
    "from collections import Counter\n",
    "import matplotlib.pyplot as plt\n",
    "import random\n",
    "import pytorch_lightning as pl\n",
    "from tqdm import tqdm\n",
    "from outsmart_text_classifier_app.preprocessing.gah_email_preprocessor import GAHEmailPreprocessor\n",
    "#from pytorch_lightning.metrics import AUROC"
   ]
  },
  {
   "cell_type": "code",
   "execution_count": 361,
   "id": "00903d04",
   "metadata": {},
   "outputs": [],
   "source": [
    "import torchmetrics\n",
    "#metrics = torchmetrics.Accuracy()"
   ]
  },
  {
   "cell_type": "code",
   "execution_count": 362,
   "id": "de2fab15",
   "metadata": {},
   "outputs": [],
   "source": [
    "import wandb\n",
    "#wandb login"
   ]
  },
  {
   "cell_type": "code",
   "execution_count": 363,
   "id": "87924c46",
   "metadata": {},
   "outputs": [],
   "source": [
    "wandb.config = {\n",
    "  #\"learning_rate\": 0.001,\n",
    "  \"epochs\": 4,\n",
    "  \"batch_size\": 1\n",
    "}"
   ]
  },
  {
   "cell_type": "code",
   "execution_count": 364,
   "id": "9fcd8b0d",
   "metadata": {},
   "outputs": [
    {
     "data": {
      "text/html": [
       "Finishing last run (ID:15t0dxpj) before initializing another..."
      ],
      "text/plain": [
       "<IPython.core.display.HTML object>"
      ]
     },
     "metadata": {},
     "output_type": "display_data"
    },
    {
     "data": {
      "text/html": [
       "Waiting for W&B process to finish... <strong style=\"color:green\">(success).</strong>"
      ],
      "text/plain": [
       "<IPython.core.display.HTML object>"
      ]
     },
     "metadata": {},
     "output_type": "display_data"
    },
    {
     "data": {
      "application/vnd.jupyter.widget-view+json": {
       "model_id": "29d91475a4274af8a7e30321e2aa35dd",
       "version_major": 2,
       "version_minor": 0
      },
      "text/plain": [
       "VBox(children=(Label(value='0.001 MB of 0.001 MB uploaded (0.000 MB deduped)\\r'), FloatProgress(value=1.0, max…"
      ]
     },
     "metadata": {},
     "output_type": "display_data"
    },
    {
     "data": {
      "text/html": [
       "<style>\n",
       "    table.wandb td:nth-child(1) { padding: 0 10px; text-align: left ; width: auto;} td:nth-child(2) {text-align: left ; width: 100%}\n",
       "    .wandb-row { display: flex; flex-direction: row; flex-wrap: wrap; justify-content: flex-start; width: 100% }\n",
       "    .wandb-col { display: flex; flex-direction: column; flex-basis: 100%; flex: 1; padding: 10px; }\n",
       "    </style>\n",
       "<div class=\"wandb-row\"><div class=\"wandb-col\"><h3>Run history:</h3><br/><table class=\"wandb\"><tr><td>epoch</td><td>▁▁▁▁▁▁▁▁</td></tr><tr><td>train_loss_step</td><td>▂█▄█▁███</td></tr><tr><td>trainer/global_step</td><td>▁▂▃▄▅▆▇█</td></tr></table><br/></div><div class=\"wandb-col\"><h3>Run summary:</h3><br/><table class=\"wandb\"><tr><td>epoch</td><td>0</td></tr><tr><td>train_loss_step</td><td>3.06102</td></tr><tr><td>trainer/global_step</td><td>399</td></tr></table><br/></div></div>"
      ],
      "text/plain": [
       "<IPython.core.display.HTML object>"
      ]
     },
     "metadata": {},
     "output_type": "display_data"
    },
    {
     "data": {
      "text/html": [
       "Synced <strong style=\"color:#cdcd00\">distinctive-surf-9</strong>: <a href=\"https://wandb.ai/workist/bert_text_classification_s/runs/15t0dxpj\" target=\"_blank\">https://wandb.ai/workist/bert_text_classification_s/runs/15t0dxpj</a><br/>Synced 5 W&B file(s), 0 media file(s), 0 artifact file(s) and 0 other file(s)"
      ],
      "text/plain": [
       "<IPython.core.display.HTML object>"
      ]
     },
     "metadata": {},
     "output_type": "display_data"
    },
    {
     "data": {
      "text/html": [
       "Find logs at: <code>./wandb/run-20221115_214924-15t0dxpj/logs</code>"
      ],
      "text/plain": [
       "<IPython.core.display.HTML object>"
      ]
     },
     "metadata": {},
     "output_type": "display_data"
    },
    {
     "data": {
      "text/html": [
       "Successfully finished last run (ID:15t0dxpj). Initializing new run:<br/>"
      ],
      "text/plain": [
       "<IPython.core.display.HTML object>"
      ]
     },
     "metadata": {},
     "output_type": "display_data"
    },
    {
     "data": {
      "application/vnd.jupyter.widget-view+json": {
       "model_id": "ef826a047c344a4db941acc0b57eacd6",
       "version_major": 2,
       "version_minor": 0
      },
      "text/plain": [
       "VBox(children=(Label(value='Waiting for wandb.init()...\\r'), FloatProgress(value=0.016695781949480685, max=1.0…"
      ]
     },
     "metadata": {},
     "output_type": "display_data"
    },
    {
     "data": {
      "text/html": [
       "Tracking run with wandb version 0.13.5"
      ],
      "text/plain": [
       "<IPython.core.display.HTML object>"
      ]
     },
     "metadata": {},
     "output_type": "display_data"
    },
    {
     "data": {
      "text/html": [
       "Run data is saved locally in <code>/Users/saranobrega/Desktop/test_pl/outsmart-text-classifier/wandb/run-20221115_221449-j06072ei</code>"
      ],
      "text/plain": [
       "<IPython.core.display.HTML object>"
      ]
     },
     "metadata": {},
     "output_type": "display_data"
    },
    {
     "data": {
      "text/html": [
       "Syncing run <strong><a href=\"https://wandb.ai/workist/bert_text_classification_s/runs/j06072ei\" target=\"_blank\">fancy-meadow-10</a></strong> to <a href=\"https://wandb.ai/workist/bert_text_classification_s\" target=\"_blank\">Weights & Biases</a> (<a href=\"https://wandb.me/run\" target=\"_blank\">docs</a>)<br/>"
      ],
      "text/plain": [
       "<IPython.core.display.HTML object>"
      ]
     },
     "metadata": {},
     "output_type": "display_data"
    },
    {
     "data": {
      "text/html": [
       "<button onClick=\"this.nextSibling.style.display='block';this.style.display='none';\">Display W&B run</button><iframe src=\"https://wandb.ai/workist/bert_text_classification_s/runs/j06072ei?jupyter=true\" style=\"border:none;width:100%;height:420px;display:none;\"></iframe>"
      ],
      "text/plain": [
       "<wandb.sdk.wandb_run.Run at 0x1896f9a20>"
      ]
     },
     "execution_count": 364,
     "metadata": {},
     "output_type": "execute_result"
    }
   ],
   "source": [
    "#import wandb\n",
    "wandb.init(project=\"bert_text_classification_s\", sync_tensorboard=True)"
   ]
  },
  {
   "cell_type": "code",
   "execution_count": 365,
   "id": "7d5b7ec9",
   "metadata": {},
   "outputs": [],
   "source": [
    "# Replace path here with your path\n",
    "data_dir = \"/Users/saranobrega/Desktop/Text_classifier/Data/activity_2fb81078-34fd-4941-b5de-909f306d2017\"\n",
    "all_files = sorted(glob.glob(f\"{data_dir}/*/*/*\"))\n",
    "input_files = [file for file in all_files if \"input_features\" in file]\n",
    "output_files = [file for file in all_files if \"output_labeled\" in file]\n",
    "random.sample(input_files, 10)\n",
    "days_for_test = [\n",
    "    \"2022-08-04\",\"2021-08-30\",\"2020-09-04\",\"2022-08-23\", \"2022-01-11\",\n",
    "    \"2020-11-04\",\"2022-08-30\",\"2021-06-07\",\"2021-07-08\", \"2021-05-07\"\n",
    "]\n",
    "input_files_test = []\n",
    "input_files_train = []\n",
    "\n",
    "output_files_test = []\n",
    "output_files_train= []\n",
    "for input_file, output_file in zip(input_files, output_files):\n",
    "    input_date = input_file.split(\"/\")[-3].split(\"_\")[-1]\n",
    "    \n",
    "    if input_date in days_for_test:\n",
    "        input_files_test.append(input_file)\n",
    "        output_files_test.append(output_file)\n",
    "    else:\n",
    "        input_files_train.append(input_file)\n",
    "        output_files_train.append(output_file)\n",
    "        \n",
    "len(input_files_train), len(input_files_test)\n",
    "\n",
    "def filter_emails_without_text(emails, predictions):\n",
    "    \n",
    "    valid_emails = []\n",
    "    valid_pred = []\n",
    "    for email, pred in zip(emails, predictions):\n",
    "        if \"attachment_texts\" in  email.keys():\n",
    "            valid_emails.append(email)\n",
    "            valid_pred.append(pred)\n",
    "    return valid_pred, valid_emails\n",
    "\n",
    "\n",
    "def create_gah_dataset(input_files_selected,output_files_selected):\n",
    "    emails = []\n",
    "    predictions = []\n",
    "    for input_file,output_file in tqdm(zip(input_files_selected,output_files_selected)):\n",
    "        \n",
    "        input_df = pd.read_csv(input_file,encoding='utf-8')\n",
    "        output_df =  pd.read_csv(output_file,encoding='utf-8')\n",
    "        predictions.extend(output_df.prediction.values)\n",
    "        #remakre values is a numpy array and keeps the order\n",
    "        emails.extend(list(input_df.email.apply(lambda x: eval(x)).values))\n",
    "        \n",
    "    # shuffle stuff\n",
    "    zipped = list(zip(predictions,emails))\n",
    "    random.Random(42).shuffle(zipped)\n",
    "\n",
    "    predictions, emails = zip(*zipped)\n",
    "    \n",
    "    predictions, emails = filter_emails_without_text(emails, predictions)\n",
    "    \n",
    "    \n",
    "    cleaned_emails,docs=GAHEmailPreprocessor().clean_emails(emails)\n",
    "    \n",
    "    return predictions, cleaned_emails, docs\n",
    "\n"
   ]
  },
  {
   "cell_type": "code",
   "execution_count": 366,
   "id": "d3cd7b57",
   "metadata": {},
   "outputs": [
    {
     "name": "stderr",
     "output_type": "stream",
     "text": [
      "\n",
      "0it [00:00, ?it/s]\u001b[A\n",
      "45it [00:00, 447.61it/s]\u001b[A\n",
      "93it [00:00, 463.64it/s]\u001b[A\n",
      "141it [00:00, 470.07it/s]\u001b[A\n",
      "189it [00:00, 451.47it/s]\u001b[A\n",
      "235it [00:00, 431.37it/s]\u001b[A\n",
      "279it [00:00, 401.15it/s]\u001b[A\n",
      "320it [00:00, 294.81it/s]\u001b[A\n",
      "354it [00:01, 257.52it/s]\u001b[A\n",
      "383it [00:01, 241.62it/s]\u001b[A\n",
      "410it [00:01, 204.84it/s]\u001b[A\n",
      "433it [00:01, 202.14it/s]\u001b[A\n",
      "455it [00:01, 191.65it/s]\u001b[A\n",
      "485it [00:01, 265.20it/s]\u001b[A\n",
      "\n",
      "10it [00:00, 291.64it/s]\n"
     ]
    }
   ],
   "source": [
    "predictions, cleaned_emails, docs = create_gah_dataset(input_files_train,output_files_train)\n",
    "predictions_test, cleaned_emails_test, docs_test = create_gah_dataset(input_files_test,output_files_test)"
   ]
  },
  {
   "cell_type": "code",
   "execution_count": 367,
   "id": "6094e460",
   "metadata": {},
   "outputs": [],
   "source": [
    "def get_X_and_y(predictions, docs, index_to_cat, cat_to_index, y_to_use = 'prediction'):\n",
    "    y_encoded = pd.Series(predictions).apply(lambda x: str(cat_to_index[x]))\n",
    "    sizes_dict = pd.Series(y_encoded).value_counts().to_dict()\n",
    "    y_larger_than_one_mask = y_encoded.apply(lambda x: sizes_dict[x]>1)\n",
    "    X_series = pd.Series(docs)\n",
    "\n",
    "    deleted_emails_mask = X_series.apply(lambda x: \"deleted by email expiry process\" in x)\n",
    "\n",
    "    X = X_series[~pd.isna(X_series)& y_larger_than_one_mask & ~deleted_emails_mask] \n",
    "    y = y_encoded[~pd.isna(X_series)& y_larger_than_one_mask & ~deleted_emails_mask]\n",
    "\n",
    "    return X, y\n",
    "\n",
    "\n",
    "index_to_cat = {str(i):cat for i,cat in enumerate(pd.Series(predictions).unique())}\n",
    "cat_to_index = {cat:i for i,cat in index_to_cat.items()}  \n",
    "\n",
    "# Train data\n",
    "X_train, Y_train = get_X_and_y(predictions, docs, index_to_cat, cat_to_index)\n",
    "# Test data\n",
    "X_test, Y_test = get_X_and_y(predictions_test, docs_test,index_to_cat, cat_to_index)"
   ]
  },
  {
   "cell_type": "code",
   "execution_count": 368,
   "id": "e2b791cb",
   "metadata": {},
   "outputs": [],
   "source": [
    "additional_train_data = {\n",
    "    \"6. Bestellbestätigung Lieferanten\": [\n",
    "        \"fehlende auftragsbestätigung\",\n",
    "        \"Bestellbestätigung\",\n",
    "        \"Lieferschein\",\n",
    "    ],\n",
    "    \"10. Bewerbungen\": [\n",
    "        \"Initiativbewerbung\",\n",
    "        \"Bewerbung\",\n",
    "        \"Application\",\n",
    "        \"ausbildungsplatz\",\n",
    "        \"bewerbungsunterlagen praktikum\",\n",
    "        \"praktikum\",\n",
    "    ],\n",
    "    \"8. Mahnungen von Lieferanten\": [\n",
    "        \"Mahnung\",\n",
    "        \"Rechnungseingang\",\n",
    "        \"Keine Zahlung\",\n",
    "        \"Fälligkeit\",\n",
    "    ],\n",
    "    \"18. Reklamationen\": [\n",
    "        \"Mängelrüge\",\n",
    "        \"falschlieferung\",\n",
    "        \"annahmeverweigerung\",\n",
    "        \"warenreklamation\",\n",
    "    ],\n",
    "    \"12. Langzeitlieferantenerklärung\": [\"Langzeitlieferanterklärung\"],\n",
    "    \"17. Rechnungsanforderungen\": [\n",
    "        \"Bitte senden sie mir eine rechnung zu meine Bestellung\"\n",
    "    ],\n",
    "    \"15. Anmahnungen\": [\n",
    "        \"Erinnerung auftragsbestätigung\",\n",
    "        \"unsere lieferanmahnung\",\n",
    "        \"Anmahnung\",\n",
    "        \"liefererinnerung\",\n",
    "        \"fehlende auftragsbestätigung\",\n",
    "        \"fehlende auftragsbestätigung zur bestellung\",\n",
    "        \"bestellmahnung\",\n",
    "        \"rückstand\",\n",
    "        \"liefermahnung zur bestellung\",\n",
    "    ],\n",
    "}\n",
    "\n",
    "X_train = list(X_train.values)\n",
    "Y_train = list(Y_train)\n",
    "for _class, texts in additional_train_data.items():\n",
    "\n",
    "    for text in texts:\n",
    "        for i in range(0, 20):\n",
    "            X_train.append(text)\n",
    "            Y_train.append(cat_to_index[_class])"
   ]
  },
  {
   "cell_type": "code",
   "execution_count": 369,
   "id": "1bb5cd12",
   "metadata": {},
   "outputs": [],
   "source": [
    "index_to_cat[\"0\"] = 'Bestellungen/Auftrag'\n",
    "index_to_cat[\"1\"] = 'Spam'\n",
    "index_to_cat[\"2\"] = 'Reklamationen'\n",
    "index_to_cat[\"3\"] = 'Sonstige Weiterleitung'\n",
    "index_to_cat[\"4\"] = 'Bewerbungen'\n",
    "index_to_cat[\"5\"] = 'Kontaktanfragen'\n",
    "index_to_cat[\"6\"] = 'LS+ALN-Anforderungen'\n",
    "index_to_cat[\"7\"] = 'Mahnungen von Lieferanten'\n",
    "index_to_cat[\"8\"] = 'Buchhaltung'\n",
    "index_to_cat[\"9\"] = 'Anmahnungen'\n",
    "index_to_cat[\"10\"] = 'Stammdaten'\n",
    "index_to_cat[\"11\"] = 'Bestellbestätigung Lieferanten'\n",
    "index_to_cat[\"12\"] = 'Anforderung Preislisten'\n",
    "index_to_cat[\"13\"] = 'Rechnungsanforderungen'\n",
    "index_to_cat[\"14\"] = 'Mahnungen von Lieferanten'\n",
    "index_to_cat[\"15\"] = 'Messenachrichten'\n",
    "index_to_cat[\"16\"] = 'Stornos'\n",
    "index_to_cat[\"17\"] = 'Kataloganforderungen'\n",
    "index_to_cat[\"18\"] = 'Retouren/NuL-Anfragen'\n",
    "index_to_cat[\"19\"] = 'Tombola/Spenden'\n",
    "index_to_cat[\"20\"] = 'Langzeitlieferantenerklärung'"
   ]
  },
  {
   "cell_type": "code",
   "execution_count": 370,
   "id": "12120fe7",
   "metadata": {},
   "outputs": [
    {
     "data": {
      "image/png": "[encoded data removed]",
      "text/plain": [
       "<Figure size 1500x500 with 1 Axes>"
      ]
     },
     "metadata": {
      "image/png": {
       "height": 428,
       "width": 1264
      }
     },
     "output_type": "display_data"
    }
   ],
   "source": [
    "width = 0.4\n",
    "Y_train_labeled = [index_to_cat[y] for y in Y_train]\n",
    "Y_test_labeled = [index_to_cat[y] for y in Y_test]\n",
    "counted_train = Counter(Y_train_labeled)\n",
    "counted_test = Counter(Y_test_labeled)\n",
    "\n",
    "fig, ax = plt.subplots(figsize=(15, 5))\n",
    "train = ax.bar(counted_train.keys(), counted_train.values(),width, color='r')\n",
    "\n",
    "test = ax.bar(counted_test.keys(), counted_test.values(),width, color='b')\n"
   ]
  },
  {
   "cell_type": "code",
   "execution_count": 371,
   "id": "1031ffa9",
   "metadata": {},
   "outputs": [],
   "source": [
    "pd.set_option(\"max_colwidth\", 150)\n",
    "pd.DataFrame({\"Email\": X_train, \"Class\": Y_train, 'Class_Name':Y_train_labeled})\n",
    "df = pd.DataFrame({\"Email\": X_train, \"Class\": Y_train, 'Class_Name':Y_train_labeled})\n",
    "df['Class'] = pd.to_numeric(df['Class'])\n",
    "\n"
   ]
  },
  {
   "cell_type": "code",
   "execution_count": 372,
   "id": "369e4d2a",
   "metadata": {},
   "outputs": [
    {
     "data": {
      "text/html": [
       "<div>\n",
       "<style scoped>\n",
       "    .dataframe tbody tr th:only-of-type {\n",
       "        vertical-align: middle;\n",
       "    }\n",
       "\n",
       "    .dataframe tbody tr th {\n",
       "        vertical-align: top;\n",
       "    }\n",
       "\n",
       "    .dataframe thead th {\n",
       "        text-align: right;\n",
       "    }\n",
       "</style>\n",
       "<table border=\"1\" class=\"dataframe\">\n",
       "  <thead>\n",
       "    <tr style=\"text-align: right;\">\n",
       "      <th></th>\n",
       "      <th>Email</th>\n",
       "      <th>Class</th>\n",
       "      <th>Class_Name</th>\n",
       "    </tr>\n",
       "  </thead>\n",
       "  <tbody>\n",
       "    <tr>\n",
       "      <th>0</th>\n",
       "      <td>fwd:[gah sc] fax image from:[07144823231]   18.06.2022  12:43  bau  und  hobby  baumarkt  gmbh  07144823231  #5804  ₽  1/  2  bau  &amp;  hobby  baum...</td>\n",
       "      <td>0</td>\n",
       "      <td>Bestellungen/Auftrag</td>\n",
       "    </tr>\n",
       "    <tr>\n",
       "      <th>1</th>\n",
       "      <td>bachelor thesis about backshoring and innovation\\r\\n  to whom it may concern, my name is emma schlawinski, and i am a double degree student of in...</td>\n",
       "      <td>1</td>\n",
       "      <td>Spam</td>\n",
       "    </tr>\n",
       "    <tr>\n",
       "      <th>2</th>\n",
       "      <td>fwd:[gah sc] fax image from:[]   01/02/2022  16:16  hagebaumarkt  salzkotten  (fax)05258  9744618  p.002/005  gah  alberts  ideen  für  haus  und...</td>\n",
       "      <td>2</td>\n",
       "      <td>Reklamationen</td>\n",
       "    </tr>\n",
       "    <tr>\n",
       "      <th>3</th>\n",
       "      <td>106073 - gah-alberts gmbh &amp; co kg - taskcenter -\\r\\n uebersicht ihrer offenen tasks  sehr geehrte damen und herren, in ihrem bahag.com task-cente...</td>\n",
       "      <td>3</td>\n",
       "      <td>Sonstige Weiterleitung</td>\n",
       "    </tr>\n",
       "    <tr>\n",
       "      <th>4</th>\n",
       "      <td>fwd:[gah sc] fax image from:[+49(6348)604000]\\n  gust. alberts gmbh &amp; co. kg blumenthal herscheid germany hra , ag iserlohn, pers. haft. ges.: al...</td>\n",
       "      <td>2</td>\n",
       "      <td>Reklamationen</td>\n",
       "    </tr>\n",
       "    <tr>\n",
       "      <th>...</th>\n",
       "      <td>...</td>\n",
       "      <td>...</td>\n",
       "      <td>...</td>\n",
       "    </tr>\n",
       "    <tr>\n",
       "      <th>6325</th>\n",
       "      <td>liefermahnung zur bestellung</td>\n",
       "      <td>10</td>\n",
       "      <td>Stammdaten</td>\n",
       "    </tr>\n",
       "    <tr>\n",
       "      <th>6326</th>\n",
       "      <td>liefermahnung zur bestellung</td>\n",
       "      <td>10</td>\n",
       "      <td>Stammdaten</td>\n",
       "    </tr>\n",
       "    <tr>\n",
       "      <th>6327</th>\n",
       "      <td>liefermahnung zur bestellung</td>\n",
       "      <td>10</td>\n",
       "      <td>Stammdaten</td>\n",
       "    </tr>\n",
       "    <tr>\n",
       "      <th>6328</th>\n",
       "      <td>liefermahnung zur bestellung</td>\n",
       "      <td>10</td>\n",
       "      <td>Stammdaten</td>\n",
       "    </tr>\n",
       "    <tr>\n",
       "      <th>6329</th>\n",
       "      <td>liefermahnung zur bestellung</td>\n",
       "      <td>10</td>\n",
       "      <td>Stammdaten</td>\n",
       "    </tr>\n",
       "  </tbody>\n",
       "</table>\n",
       "<p>6330 rows × 3 columns</p>\n",
       "</div>"
      ],
      "text/plain": [
       "                                                                                                                                                      Email  \\\n",
       "0      fwd:[gah sc] fax image from:[07144823231]   18.06.2022  12:43  bau  und  hobby  baumarkt  gmbh  07144823231  #5804  ₽  1/  2  bau  &  hobby  baum...   \n",
       "1      bachelor thesis about backshoring and innovation\\r\\n  to whom it may concern, my name is emma schlawinski, and i am a double degree student of in...   \n",
       "2      fwd:[gah sc] fax image from:[]   01/02/2022  16:16  hagebaumarkt  salzkotten  (fax)05258  9744618  p.002/005  gah  alberts  ideen  für  haus  und...   \n",
       "3      106073 - gah-alberts gmbh & co kg - taskcenter -\\r\\n uebersicht ihrer offenen tasks  sehr geehrte damen und herren, in ihrem bahag.com task-cente...   \n",
       "4      fwd:[gah sc] fax image from:[+49(6348)604000]\\n  gust. alberts gmbh & co. kg blumenthal herscheid germany hra , ag iserlohn, pers. haft. ges.: al...   \n",
       "...                                                                                                                                                     ...   \n",
       "6325                                                                                                                           liefermahnung zur bestellung   \n",
       "6326                                                                                                                           liefermahnung zur bestellung   \n",
       "6327                                                                                                                           liefermahnung zur bestellung   \n",
       "6328                                                                                                                           liefermahnung zur bestellung   \n",
       "6329                                                                                                                           liefermahnung zur bestellung   \n",
       "\n",
       "      Class              Class_Name  \n",
       "0         0    Bestellungen/Auftrag  \n",
       "1         1                    Spam  \n",
       "2         2           Reklamationen  \n",
       "3         3  Sonstige Weiterleitung  \n",
       "4         2           Reklamationen  \n",
       "...     ...                     ...  \n",
       "6325     10              Stammdaten  \n",
       "6326     10              Stammdaten  \n",
       "6327     10              Stammdaten  \n",
       "6328     10              Stammdaten  \n",
       "6329     10              Stammdaten  \n",
       "\n",
       "[6330 rows x 3 columns]"
      ]
     },
     "execution_count": 372,
     "metadata": {},
     "output_type": "execute_result"
    }
   ],
   "source": [
    "df"
   ]
  },
  {
   "cell_type": "markdown",
   "id": "e6ad9512",
   "metadata": {},
   "source": [
    "Downsampling"
   ]
  },
  {
   "cell_type": "code",
   "execution_count": 373,
   "id": "b56b19e7",
   "metadata": {},
   "outputs": [
    {
     "name": "stdout",
     "output_type": "stream",
     "text": [
      "21\n"
     ]
    }
   ],
   "source": [
    "from sklearn.utils import shuffle\n",
    "def downsample(df, perc):\n",
    "    df_new = pd.DataFrame()\n",
    "    df = shuffle(df)\n",
    "    for label_num in df.Class.unique():\n",
    "        df1 = df[df.Class==label_num]\n",
    "        df1 = df1.sample(round(len(df1)*perc))\n",
    "        df_new = pd.concat([df_new,df1])\n",
    "        df_new = shuffle(df_new)        \n",
    "    print(len(df_new.Class.unique()))\n",
    "    return df_new\n",
    "df=downsample(df,0.5)"
   ]
  },
  {
   "cell_type": "code",
   "execution_count": 374,
   "id": "b32e489a",
   "metadata": {},
   "outputs": [],
   "source": [
    "df=df.reset_index()"
   ]
  },
  {
   "cell_type": "code",
   "execution_count": 375,
   "id": "08c64a04",
   "metadata": {},
   "outputs": [],
   "source": [
    "#df.drop('index')\n",
    "df=df.drop(columns=['index'])"
   ]
  },
  {
   "cell_type": "code",
   "execution_count": 376,
   "id": "bbb6af1f",
   "metadata": {},
   "outputs": [
    {
     "data": {
      "text/html": [
       "<div>\n",
       "<style scoped>\n",
       "    .dataframe tbody tr th:only-of-type {\n",
       "        vertical-align: middle;\n",
       "    }\n",
       "\n",
       "    .dataframe tbody tr th {\n",
       "        vertical-align: top;\n",
       "    }\n",
       "\n",
       "    .dataframe thead th {\n",
       "        text-align: right;\n",
       "    }\n",
       "</style>\n",
       "<table border=\"1\" class=\"dataframe\">\n",
       "  <thead>\n",
       "    <tr style=\"text-align: right;\">\n",
       "      <th></th>\n",
       "      <th>Email</th>\n",
       "      <th>Class</th>\n",
       "      <th>Class_Name</th>\n",
       "    </tr>\n",
       "  </thead>\n",
       "  <tbody>\n",
       "    <tr>\n",
       "      <th>0</th>\n",
       "      <td>neolog anfrage muster  sehr geehrte damen und herren, gerne würden wir zum test ein muster von einem ihrer artikel anfordern. art.-nr. x kantensc...</td>\n",
       "      <td>6</td>\n",
       "      <td>LS+ALN-Anforderungen</td>\n",
       "    </tr>\n",
       "    <tr>\n",
       "      <th>1</th>\n",
       "      <td>absperrpfosten klappy  sehr geehrte damen und herren, ich muss meinen personengebundenen behindertenparkplatz gegen unberechtigte fremdnutzung sc...</td>\n",
       "      <td>6</td>\n",
       "      <td>LS+ALN-Anforderungen</td>\n",
       "    </tr>\n",
       "    <tr>\n",
       "      <th>2</th>\n",
       "      <td>- 14 kg in 1 monat ohne fasten, ohne bewegung\\r\\n  - kg in monat ohne fasten, ohne bewegung rmafnnvf xqtrkhvvep cymi g b q</td>\n",
       "      <td>1</td>\n",
       "      <td>Spam</td>\n",
       "    </tr>\n",
       "    <tr>\n",
       "      <th>3</th>\n",
       "      <td>fwd:[gah sc] fax image from:[]   verlag  dashoefer  040-41332110  unser  seminar-angebot  für  sie!  verlag  dashöfer  gmbh  business-seminare  g...</td>\n",
       "      <td>1</td>\n",
       "      <td>Spam</td>\n",
       "    </tr>\n",
       "    <tr>\n",
       "      <th>4</th>\n",
       "      <td>send me your product details/e-catalog.  dear sir madam, my name is kofi vincent, i am a government licensed broker in ghana involved in import e...</td>\n",
       "      <td>6</td>\n",
       "      <td>LS+ALN-Anforderungen</td>\n",
       "    </tr>\n",
       "    <tr>\n",
       "      <th>...</th>\n",
       "      <td>...</td>\n",
       "      <td>...</td>\n",
       "      <td>...</td>\n",
       "    </tr>\n",
       "    <tr>\n",
       "      <th>3163</th>\n",
       "      <td>kundenkonto  sehr geehrte damen und herren, bitte senden sie uns einen händlerzugang. vielen dank ihr michael schraeder geschäftsführer telefon +...</td>\n",
       "      <td>6</td>\n",
       "      <td>LS+ALN-Anforderungen</td>\n",
       "    </tr>\n",
       "    <tr>\n",
       "      <th>3164</th>\n",
       "      <td>preis pfosten  hallo, wir bräuchten bitte ek preis uvp und versandkosten für eine einzelbestellung von kombipfosten mm mm kombipfosten mm mm viel...</td>\n",
       "      <td>4</td>\n",
       "      <td>Bewerbungen</td>\n",
       "    </tr>\n",
       "    <tr>\n",
       "      <th>3165</th>\n",
       "      <td>commercial request  dear sir or mme, i am the area manager of pum sas and i could see on your website that you sell stainless steel round bars. t...</td>\n",
       "      <td>6</td>\n",
       "      <td>LS+ALN-Anforderungen</td>\n",
       "    </tr>\n",
       "    <tr>\n",
       "      <th>3166</th>\n",
       "      <td>anfrage kesseböhmer projekt: 240012769  sehr geehrte damen und herren, auf der grundlage der allgemeinen einkaufsbedingungen der kesseböhmer unte...</td>\n",
       "      <td>4</td>\n",
       "      <td>Bewerbungen</td>\n",
       "    </tr>\n",
       "    <tr>\n",
       "      <th>3167</th>\n",
       "      <td>doppeltor flexo, typ 6/5/6  guten tag, ich beabsichtige zwei doppeltore flexo mit den maßen , m x , m zum einbetonieren ohne abstand direkt neben...</td>\n",
       "      <td>6</td>\n",
       "      <td>LS+ALN-Anforderungen</td>\n",
       "    </tr>\n",
       "  </tbody>\n",
       "</table>\n",
       "<p>3168 rows × 3 columns</p>\n",
       "</div>"
      ],
      "text/plain": [
       "                                                                                                                                                      Email  \\\n",
       "0      neolog anfrage muster  sehr geehrte damen und herren, gerne würden wir zum test ein muster von einem ihrer artikel anfordern. art.-nr. x kantensc...   \n",
       "1      absperrpfosten klappy  sehr geehrte damen und herren, ich muss meinen personengebundenen behindertenparkplatz gegen unberechtigte fremdnutzung sc...   \n",
       "2                               - 14 kg in 1 monat ohne fasten, ohne bewegung\\r\\n  - kg in monat ohne fasten, ohne bewegung rmafnnvf xqtrkhvvep cymi g b q    \n",
       "3      fwd:[gah sc] fax image from:[]   verlag  dashoefer  040-41332110  unser  seminar-angebot  für  sie!  verlag  dashöfer  gmbh  business-seminare  g...   \n",
       "4      send me your product details/e-catalog.  dear sir madam, my name is kofi vincent, i am a government licensed broker in ghana involved in import e...   \n",
       "...                                                                                                                                                     ...   \n",
       "3163   kundenkonto  sehr geehrte damen und herren, bitte senden sie uns einen händlerzugang. vielen dank ihr michael schraeder geschäftsführer telefon +...   \n",
       "3164   preis pfosten  hallo, wir bräuchten bitte ek preis uvp und versandkosten für eine einzelbestellung von kombipfosten mm mm kombipfosten mm mm viel...   \n",
       "3165   commercial request  dear sir or mme, i am the area manager of pum sas and i could see on your website that you sell stainless steel round bars. t...   \n",
       "3166   anfrage kesseböhmer projekt: 240012769  sehr geehrte damen und herren, auf der grundlage der allgemeinen einkaufsbedingungen der kesseböhmer unte...   \n",
       "3167   doppeltor flexo, typ 6/5/6  guten tag, ich beabsichtige zwei doppeltore flexo mit den maßen , m x , m zum einbetonieren ohne abstand direkt neben...   \n",
       "\n",
       "      Class            Class_Name  \n",
       "0         6  LS+ALN-Anforderungen  \n",
       "1         6  LS+ALN-Anforderungen  \n",
       "2         1                  Spam  \n",
       "3         1                  Spam  \n",
       "4         6  LS+ALN-Anforderungen  \n",
       "...     ...                   ...  \n",
       "3163      6  LS+ALN-Anforderungen  \n",
       "3164      4           Bewerbungen  \n",
       "3165      6  LS+ALN-Anforderungen  \n",
       "3166      4           Bewerbungen  \n",
       "3167      6  LS+ALN-Anforderungen  \n",
       "\n",
       "[3168 rows x 3 columns]"
      ]
     },
     "execution_count": 376,
     "metadata": {},
     "output_type": "execute_result"
    }
   ],
   "source": [
    "df"
   ]
  },
  {
   "cell_type": "markdown",
   "id": "5cb594a4",
   "metadata": {},
   "source": [
    "Remove Stop Words"
   ]
  },
  {
   "cell_type": "code",
   "execution_count": 377,
   "id": "e876fcdb",
   "metadata": {},
   "outputs": [],
   "source": [
    "import nltk\n",
    "from nltk.corpus import stopwords\n",
    "from nltk.stem.snowball import SnowballStemmer\n",
    "import re\n",
    "import sys\n",
    "import warnings\n",
    "\n",
    "\n",
    "data = df\n",
    "if not sys.warnoptions:\n",
    "    warnings.simplefilter(\"ignore\")\n",
    "\n",
    "# remove html-tags\n",
    "def cleanHtml(sentence):\n",
    "    cleanr = re.compile('<.*?>')\n",
    "    cleantext = re.sub(cleanr, ' ', str(sentence))\n",
    "    return cleantext\n",
    "\n",
    "# remove punctuation \n",
    "def cleanPunc(sentence): #function to clean the word of any punctuation or special characters\n",
    "    cleaned = re.sub(r'[?|!|\\'|\"|#]',r'',sentence)\n",
    "    cleaned = re.sub(r'[.|,|)|(|\\|/]',r' ',cleaned)\n",
    "    cleaned = cleaned.strip()\n",
    "    cleaned = cleaned.replace(\"\\n\",\" \")\n",
    "    return cleaned\n",
    "\n",
    "##we want non-alphabetic characters!\n",
    "\n",
    "#def keepAlpha(sentence):\n",
    "#    alpha_sent = \"\"\n",
    "#    for word in sentence.split():\n",
    "#        alpha_word = re.sub('[^a-z A-Z]+', ' ', word)\n",
    "#        alpha_sent += alpha_word\n",
    "#        alpha_sent += \" \"\n",
    "#    alpha_sent = alpha_sent.strip()\n",
    "#    return alpha_sent\n",
    "\n",
    "df['Email'] = df['Email'].str.lower()\n",
    "df['Email']= df['Email'].apply(cleanHtml)\n",
    "df['Email']= df['Email'].apply(cleanPunc)\n",
    "#df['Email']= df['Email'].apply(keepAlpha)\n",
    "stop_words = set(stopwords.words('german'))\n",
    "#len(stop_words)"
   ]
  },
  {
   "cell_type": "code",
   "execution_count": 378,
   "id": "fa33464b",
   "metadata": {},
   "outputs": [],
   "source": [
    "stop_words.update(stopwords.words('english'))\n",
    "re_stop_words = re.compile(r\"\\b(\" + \"|\".join(stop_words) + \")\\\\W\", re.I)\n",
    "def removeStopWords(sentence):\n",
    "    global re_stop_words\n",
    "    return re_stop_words.sub(\" \", sentence)"
   ]
  },
  {
   "cell_type": "code",
   "execution_count": 379,
   "id": "33afbc34",
   "metadata": {},
   "outputs": [],
   "source": [
    "df['Email']= df['Email'].apply(removeStopWords)\n",
    "#len(stop_words)"
   ]
  },
  {
   "cell_type": "code",
   "execution_count": 380,
   "id": "2a0201f7",
   "metadata": {},
   "outputs": [
    {
     "data": {
      "text/html": [
       "<div>\n",
       "<style scoped>\n",
       "    .dataframe tbody tr th:only-of-type {\n",
       "        vertical-align: middle;\n",
       "    }\n",
       "\n",
       "    .dataframe tbody tr th {\n",
       "        vertical-align: top;\n",
       "    }\n",
       "\n",
       "    .dataframe thead th {\n",
       "        text-align: right;\n",
       "    }\n",
       "</style>\n",
       "<table border=\"1\" class=\"dataframe\">\n",
       "  <thead>\n",
       "    <tr style=\"text-align: right;\">\n",
       "      <th></th>\n",
       "      <th>Email</th>\n",
       "      <th>Class</th>\n",
       "      <th>Class_Name</th>\n",
       "    </tr>\n",
       "  </thead>\n",
       "  <tbody>\n",
       "    <tr>\n",
       "      <th>0</th>\n",
       "      <td>neolog anfrage muster   geehrte damen  herren  gerne    test  muster    artikel anfordern  art -nr  x kantenschutzprofil  x cm wäre  möglich viele...</td>\n",
       "      <td>6</td>\n",
       "      <td>LS+ALN-Anforderungen</td>\n",
       "    </tr>\n",
       "    <tr>\n",
       "      <th>1</th>\n",
       "      <td>absperrpfosten klappy   geehrte damen  herren     personengebundenen behindertenparkplatz  unberechtigte fremdnutzung schützen  dafür möchte  ggf ...</td>\n",
       "      <td>6</td>\n",
       "      <td>LS+ALN-Anforderungen</td>\n",
       "    </tr>\n",
       "    <tr>\n",
       "      <th>2</th>\n",
       "      <td>- 14 kg  1 monat  fasten   bewegung\\r   - kg  monat  fasten   bewegung rmafnnvf xqtrkhvvep cymi g b q</td>\n",
       "      <td>1</td>\n",
       "      <td>Spam</td>\n",
       "    </tr>\n",
       "    <tr>\n",
       "      <th>3</th>\n",
       "      <td>fwd:[gah sc] fax image  []   verlag  dashoefer  040-41332110    seminar-angebot      verlag  dashöfer  gmbh  business-seminare  gustav  alberts  g...</td>\n",
       "      <td>1</td>\n",
       "      <td>Spam</td>\n",
       "    </tr>\n",
       "    <tr>\n",
       "      <th>4</th>\n",
       "      <td>send   product details e-catalog   dear sir madam   name  kofi vincent     government licensed broker  ghana involved  import export business sinc...</td>\n",
       "      <td>6</td>\n",
       "      <td>LS+ALN-Anforderungen</td>\n",
       "    </tr>\n",
       "    <tr>\n",
       "      <th>...</th>\n",
       "      <td>...</td>\n",
       "      <td>...</td>\n",
       "      <td>...</td>\n",
       "    </tr>\n",
       "    <tr>\n",
       "      <th>3163</th>\n",
       "      <td>kundenkonto   geehrte damen  herren  bitte senden    händlerzugang  vielen dank  michael schraeder geschäftsführer telefon + - schraeder schraeder...</td>\n",
       "      <td>6</td>\n",
       "      <td>LS+ALN-Anforderungen</td>\n",
       "    </tr>\n",
       "    <tr>\n",
       "      <th>3164</th>\n",
       "      <td>preis pfosten  hallo   bräuchten bitte ek preis uvp  versandkosten   einzelbestellung  kombipfosten mm mm kombipfosten mm mm vielen dank sebastian...</td>\n",
       "      <td>4</td>\n",
       "      <td>Bewerbungen</td>\n",
       "    </tr>\n",
       "    <tr>\n",
       "      <th>3165</th>\n",
       "      <td>commercial request  dear sir  mme     area manager  pum sas   could see   website   sell stainless steel round bars   tell   little     know     c...</td>\n",
       "      <td>6</td>\n",
       "      <td>LS+ALN-Anforderungen</td>\n",
       "    </tr>\n",
       "    <tr>\n",
       "      <th>3166</th>\n",
       "      <td>anfrage kesseböhmer projekt: 240012769   geehrte damen  herren    grundlage  allgemeinen einkaufsbedingungen  kesseböhmer unternehmensgruppe  stan...</td>\n",
       "      <td>4</td>\n",
       "      <td>Bewerbungen</td>\n",
       "    </tr>\n",
       "    <tr>\n",
       "      <th>3167</th>\n",
       "      <td>doppeltor flexo  typ 6 5 6  guten tag   beabsichtige zwei doppeltore flexo   maßen    x     einbetonieren  abstand direkt nebeneinander  installie...</td>\n",
       "      <td>6</td>\n",
       "      <td>LS+ALN-Anforderungen</td>\n",
       "    </tr>\n",
       "  </tbody>\n",
       "</table>\n",
       "<p>3168 rows × 3 columns</p>\n",
       "</div>"
      ],
      "text/plain": [
       "                                                                                                                                                      Email  \\\n",
       "0     neolog anfrage muster   geehrte damen  herren  gerne    test  muster    artikel anfordern  art -nr  x kantenschutzprofil  x cm wäre  möglich viele...   \n",
       "1     absperrpfosten klappy   geehrte damen  herren     personengebundenen behindertenparkplatz  unberechtigte fremdnutzung schützen  dafür möchte  ggf ...   \n",
       "2                                                     - 14 kg  1 monat  fasten   bewegung\\r   - kg  monat  fasten   bewegung rmafnnvf xqtrkhvvep cymi g b q   \n",
       "3     fwd:[gah sc] fax image  []   verlag  dashoefer  040-41332110    seminar-angebot      verlag  dashöfer  gmbh  business-seminare  gustav  alberts  g...   \n",
       "4     send   product details e-catalog   dear sir madam   name  kofi vincent     government licensed broker  ghana involved  import export business sinc...   \n",
       "...                                                                                                                                                     ...   \n",
       "3163  kundenkonto   geehrte damen  herren  bitte senden    händlerzugang  vielen dank  michael schraeder geschäftsführer telefon + - schraeder schraeder...   \n",
       "3164  preis pfosten  hallo   bräuchten bitte ek preis uvp  versandkosten   einzelbestellung  kombipfosten mm mm kombipfosten mm mm vielen dank sebastian...   \n",
       "3165  commercial request  dear sir  mme     area manager  pum sas   could see   website   sell stainless steel round bars   tell   little     know     c...   \n",
       "3166  anfrage kesseböhmer projekt: 240012769   geehrte damen  herren    grundlage  allgemeinen einkaufsbedingungen  kesseböhmer unternehmensgruppe  stan...   \n",
       "3167  doppeltor flexo  typ 6 5 6  guten tag   beabsichtige zwei doppeltore flexo   maßen    x     einbetonieren  abstand direkt nebeneinander  installie...   \n",
       "\n",
       "      Class            Class_Name  \n",
       "0         6  LS+ALN-Anforderungen  \n",
       "1         6  LS+ALN-Anforderungen  \n",
       "2         1                  Spam  \n",
       "3         1                  Spam  \n",
       "4         6  LS+ALN-Anforderungen  \n",
       "...     ...                   ...  \n",
       "3163      6  LS+ALN-Anforderungen  \n",
       "3164      4           Bewerbungen  \n",
       "3165      6  LS+ALN-Anforderungen  \n",
       "3166      4           Bewerbungen  \n",
       "3167      6  LS+ALN-Anforderungen  \n",
       "\n",
       "[3168 rows x 3 columns]"
      ]
     },
     "execution_count": 380,
     "metadata": {},
     "output_type": "execute_result"
    }
   ],
   "source": [
    "df"
   ]
  },
  {
   "cell_type": "code",
   "execution_count": 381,
   "id": "9b3a3a82",
   "metadata": {},
   "outputs": [],
   "source": [
    "LABEL_COLUMNS = df['Class']"
   ]
  },
  {
   "cell_type": "markdown",
   "id": "48db4d96",
   "metadata": {},
   "source": [
    "BERT Model"
   ]
  },
  {
   "cell_type": "markdown",
   "id": "bda0e5f9",
   "metadata": {},
   "source": [
    "Train Test Split"
   ]
  },
  {
   "cell_type": "code",
   "execution_count": 382,
   "id": "486a9afe",
   "metadata": {},
   "outputs": [],
   "source": [
    "from sklearn.model_selection import train_test_split\n",
    "\n",
    "train_df, val_df = train_test_split(df, test_size=0.05,shuffle=True)\n",
    "\n",
    "train_df = train_df.reset_index()\n",
    "val_df = val_df.reset_index()\n",
    "\n",
    "train_df = train_df.drop(columns=['index'])\n",
    "val_df= val_df.drop(columns=['index'])"
   ]
  },
  {
   "cell_type": "code",
   "execution_count": 383,
   "id": "8a2f56e1",
   "metadata": {},
   "outputs": [
    {
     "data": {
      "text/plain": [
       "((3009, 3), (159, 3))"
      ]
     },
     "execution_count": 383,
     "metadata": {},
     "output_type": "execute_result"
    }
   ],
   "source": [
    "train_df.shape,val_df.shape"
   ]
  },
  {
   "cell_type": "code",
   "execution_count": 384,
   "id": "caaa90cb",
   "metadata": {},
   "outputs": [
    {
     "data": {
      "text/html": [
       "<div>\n",
       "<style scoped>\n",
       "    .dataframe tbody tr th:only-of-type {\n",
       "        vertical-align: middle;\n",
       "    }\n",
       "\n",
       "    .dataframe tbody tr th {\n",
       "        vertical-align: top;\n",
       "    }\n",
       "\n",
       "    .dataframe thead th {\n",
       "        text-align: right;\n",
       "    }\n",
       "</style>\n",
       "<table border=\"1\" class=\"dataframe\">\n",
       "  <thead>\n",
       "    <tr style=\"text-align: right;\">\n",
       "      <th></th>\n",
       "      <th>Email</th>\n",
       "      <th>Class</th>\n",
       "      <th>Class_Name</th>\n",
       "    </tr>\n",
       "  </thead>\n",
       "  <tbody>\n",
       "    <tr>\n",
       "      <th>0</th>\n",
       "      <td>fwd:[gah sc] fax image  [+49 6348 604000]\\r    04 11 2021  23:45:26  hornbach  baumarkt  ag  1 2  hornbach  bouwmarkt   nederland   b v   hornbach...</td>\n",
       "      <td>9</td>\n",
       "      <td>Anmahnungen</td>\n",
       "    </tr>\n",
       "    <tr>\n",
       "      <th>1</th>\n",
       "      <td>gah de 密码过期通知­  电子邮件 存储 升级 您的电子邮件存储空间已达到极限 *电邮储存:   % 充分 需要采取的行动: 您必须立即将电子邮件存储空间升级到 gb  此电子邮件服务快速，简便且免费  如果您在 小时内未执行此操作，则您的电子邮件帐户将被关闭，所有数据将永久丢失 升级...</td>\n",
       "      <td>1</td>\n",
       "      <td>Spam</td>\n",
       "    </tr>\n",
       "  </tbody>\n",
       "</table>\n",
       "</div>"
      ],
      "text/plain": [
       "                                                                                                                                                   Email  \\\n",
       "0  fwd:[gah sc] fax image  [+49 6348 604000]\\r    04 11 2021  23:45:26  hornbach  baumarkt  ag  1 2  hornbach  bouwmarkt   nederland   b v   hornbach...   \n",
       "1  gah de 密码过期通知­  电子邮件 存储 升级 您的电子邮件存储空间已达到极限 *电邮储存:   % 充分 需要采取的行动: 您必须立即将电子邮件存储空间升级到 gb  此电子邮件服务快速，简便且免费  如果您在 小时内未执行此操作，则您的电子邮件帐户将被关闭，所有数据将永久丢失 升级...   \n",
       "\n",
       "   Class   Class_Name  \n",
       "0      9  Anmahnungen  \n",
       "1      1         Spam  "
      ]
     },
     "execution_count": 384,
     "metadata": {},
     "output_type": "execute_result"
    }
   ],
   "source": [
    "train_df.head(2)"
   ]
  },
  {
   "cell_type": "markdown",
   "id": "ba715db0",
   "metadata": {},
   "source": [
    "Tokenization"
   ]
  },
  {
   "cell_type": "code",
   "execution_count": 385,
   "id": "5f57a1ea",
   "metadata": {},
   "outputs": [],
   "source": [
    "from transformers import BertTokenizer, BertModel\n",
    "from transformers import pipeline\n",
    "BERT_MODEL_NAME = 'bert-base-cased'\n",
    "tokenizer = BertTokenizer.from_pretrained(BERT_MODEL_NAME)"
   ]
  },
  {
   "cell_type": "code",
   "execution_count": 386,
   "id": "a6c971b9",
   "metadata": {},
   "outputs": [
    {
     "data": {
      "image/png": "[encoded data removed]",
      "text/plain": [
       "<Figure size 640x480 with 1 Axes>"
      ]
     },
     "metadata": {
      "image/png": {
       "height": 418,
       "width": 586
      }
     },
     "output_type": "display_data"
    }
   ],
   "source": [
    "token_counts = []\n",
    "for _, row in train_df.iterrows():\n",
    "  token_count = len(tokenizer.encode(\n",
    "    row[\"Email\"],\n",
    "    max_length=1024,\n",
    "    truncation=True\n",
    "  ))\n",
    "  token_counts.append(token_count)\n",
    "sns.histplot(token_counts)\n",
    "plt.xlim([0, 1024]);"
   ]
  },
  {
   "cell_type": "code",
   "execution_count": 387,
   "id": "f6c5d3c0",
   "metadata": {},
   "outputs": [],
   "source": [
    "MAX_TOKEN_COUNT = 256"
   ]
  },
  {
   "cell_type": "code",
   "execution_count": 388,
   "id": "8ef4f9c8",
   "metadata": {},
   "outputs": [],
   "source": [
    "class ToxicCommentsDataset(Dataset):\n",
    "    def __init__(\n",
    "        self, data: pd.DataFrame, tokenizer: BertTokenizer, max_token_len: int = 256\n",
    "    ):\n",
    "        self.tokenizer = tokenizer\n",
    "        self.data = data\n",
    "        self.max_token_len = max_token_len\n",
    "\n",
    "    def __len__(self):\n",
    "        return len(self.data)\n",
    "\n",
    "    def __getitem__(self, index: int):\n",
    "        data_row = self.data.iloc[index]\n",
    "        comment_text = data_row.Email  # I changed here to 'Email'\n",
    "        # labels = data_row[LABEL_COLUMNS]# this remains the same\n",
    "        labels = data_row.Class\n",
    "        #print(labels)\n",
    "        # labels_tensor=torch.tensor(labels)\n",
    "        # labels=torch.FloatTensor(labels)\n",
    "        # print('the label is',labels,'with size',labels.size())\n",
    "        encoding = self.tokenizer.encode_plus(\n",
    "            comment_text,\n",
    "            add_special_tokens=True,\n",
    "            max_length=self.max_token_len,\n",
    "            return_token_type_ids=False,\n",
    "            padding=\"max_length\",\n",
    "            truncation=True,\n",
    "            return_attention_mask=True,\n",
    "            return_tensors=\"pt\",\n",
    "        )\n",
    "        return dict(\n",
    "            comment_text=comment_text,\n",
    "            input_ids=encoding[\"input_ids\"].flatten(),\n",
    "            attention_mask=encoding[\"attention_mask\"].flatten(),\n",
    "            labels=np.array(labels),\n",
    "            # labels=F.one_hot(labels_tensor,num_classes=21)#, num_classes=21)\n",
    "        )"
   ]
  },
  {
   "cell_type": "code",
   "execution_count": 389,
   "id": "f8a7861e",
   "metadata": {},
   "outputs": [],
   "source": [
    "#ds = ToxicCommentsDataset(train_df, tokenizer, 512)\n",
    "#ds[4].keys()"
   ]
  },
  {
   "cell_type": "code",
   "execution_count": 390,
   "id": "584cd8f4",
   "metadata": {},
   "outputs": [
    {
     "name": "stderr",
     "output_type": "stream",
     "text": [
      "Some weights of the model checkpoint at bert-base-cased were not used when initializing BertModel: ['cls.predictions.transform.LayerNorm.weight', 'cls.predictions.transform.dense.weight', 'cls.predictions.decoder.weight', 'cls.seq_relationship.weight', 'cls.seq_relationship.bias', 'cls.predictions.transform.dense.bias', 'cls.predictions.bias', 'cls.predictions.transform.LayerNorm.bias']\n",
      "- This IS expected if you are initializing BertModel from the checkpoint of a model trained on another task or with another architecture (e.g. initializing a BertForSequenceClassification model from a BertForPreTraining model).\n",
      "- This IS NOT expected if you are initializing BertModel from the checkpoint of a model that you expect to be exactly identical (initializing a BertForSequenceClassification model from a BertForSequenceClassification model).\n"
     ]
    }
   ],
   "source": [
    "bert_model = BertModel.from_pretrained(BERT_MODEL_NAME, return_dict=True) #, return_dict=True) # max_position_embeddings=1024)"
   ]
  },
  {
   "cell_type": "code",
   "execution_count": 391,
   "id": "3ef1acb7",
   "metadata": {},
   "outputs": [],
   "source": [
    "class ToxicCommentDataModule(pl.LightningDataModule):\n",
    "    def __init__(self, train_df, test_df, tokenizer, batch_size=1, max_token_len=256):\n",
    "        super().__init__()\n",
    "        self.batch_size = batch_size\n",
    "        self.train_df = train_df\n",
    "        self.test_df = test_df\n",
    "        self.tokenizer = tokenizer\n",
    "        self.max_token_len = max_token_len\n",
    "\n",
    "    def setup(self, stage=None):\n",
    "        self.train_dataset = ToxicCommentsDataset(\n",
    "            self.train_df, self.tokenizer, self.max_token_len\n",
    "        )\n",
    "        self.test_dataset = ToxicCommentsDataset(\n",
    "            self.test_df, self.tokenizer, self.max_token_len\n",
    "        )\n",
    "\n",
    "    def train_dataloader(self):\n",
    "        return DataLoader(\n",
    "            self.train_dataset, batch_size=self.batch_size, shuffle=True, num_workers=0\n",
    "        )\n",
    "\n",
    "    def val_dataloader(self):\n",
    "        return DataLoader(\n",
    "            self.test_dataset,\n",
    "            batch_size=self.batch_size,\n",
    "            num_workers=0,  # is this a problem?\n",
    "        )\n",
    "\n",
    "    def test_dataloader(self):\n",
    "        return DataLoader(\n",
    "            self.test_dataset,\n",
    "            batch_size=self.batch_size,\n",
    "            num_workers=0,  # is this a problem?\n",
    "        )"
   ]
  },
  {
   "cell_type": "code",
   "execution_count": 392,
   "id": "379faa1a",
   "metadata": {},
   "outputs": [],
   "source": [
    "N_EPOCHS = 8\n",
    "BATCH_SIZE = 1\n"
   ]
  },
  {
   "cell_type": "code",
   "execution_count": 393,
   "id": "c1b2f4ad",
   "metadata": {},
   "outputs": [],
   "source": [
    "data_module = ToxicCommentDataModule(\n",
    "  train_df,\n",
    "  val_df,\n",
    "  tokenizer,\n",
    "  batch_size=BATCH_SIZE,\n",
    "  max_token_len=MAX_TOKEN_COUNT)"
   ]
  },
  {
   "cell_type": "code",
   "execution_count": 1,
   "id": "7ae0226a",
   "metadata": {},
   "outputs": [
    {
     "ename": "NameError",
     "evalue": "name 'pl' is not defined",
     "output_type": "error",
     "traceback": [
      "\u001b[0;31m---------------------------------------------------------------------------\u001b[0m",
      "\u001b[0;31mNameError\u001b[0m                                 Traceback (most recent call last)",
      "Cell \u001b[0;32mIn [1], line 2\u001b[0m\n\u001b[1;32m      1\u001b[0m \u001b[38;5;28;01mfrom\u001b[39;00m \u001b[38;5;21;01mtorchmetrics\u001b[39;00m\u001b[38;5;21;01m.\u001b[39;00m\u001b[38;5;21;01mfunctional\u001b[39;00m \u001b[38;5;28;01mimport\u001b[39;00m accuracy\n\u001b[0;32m----> 2\u001b[0m \u001b[38;5;28;01mclass\u001b[39;00m \u001b[38;5;21;01mToxicCommentTagger\u001b[39;00m(\u001b[43mpl\u001b[49m\u001b[38;5;241m.\u001b[39mLightningModule):\n\u001b[1;32m      3\u001b[0m     \u001b[38;5;28;01mdef\u001b[39;00m \u001b[38;5;21m__init__\u001b[39m(\u001b[38;5;28mself\u001b[39m, n_classes: \u001b[38;5;28mint\u001b[39m, n_training_steps\u001b[38;5;241m=\u001b[39m\u001b[38;5;28;01mNone\u001b[39;00m, n_warmup_steps\u001b[38;5;241m=\u001b[39m\u001b[38;5;28;01mNone\u001b[39;00m):\n\u001b[1;32m      4\u001b[0m         \u001b[38;5;28msuper\u001b[39m()\u001b[38;5;241m.\u001b[39m\u001b[38;5;21m__init__\u001b[39m()\n",
      "\u001b[0;31mNameError\u001b[0m: name 'pl' is not defined"
     ]
    }
   ],
   "source": [
    "from torchmetrics.functional import accuracy\n",
    "class ToxicCommentTagger(pl.LightningModule):\n",
    "    def __init__(self, n_classes: int, n_training_steps=None, n_warmup_steps=None):\n",
    "        super().__init__()\n",
    "        self.bert = BertModel.from_pretrained(BERT_MODEL_NAME, return_dict=True)\n",
    "        self.classifier = nn.Linear(self.bert.config.hidden_size, n_classes)\n",
    "        self.n_training_steps = n_training_steps\n",
    "        self.n_warmup_steps = n_warmup_steps\n",
    "        self.func = nn.Softmax(dim=1)\n",
    "        #print(\"hello1\")\n",
    "        # self.criterion = nn.BCELoss()\n",
    "        # self.criterion =nn.NLLLoss\n",
    "        # sparcecategoricalcross\n",
    "        # self.criterion = BCEWithLogitsLoss()\n",
    "        self.criterion = nn.CrossEntropyLoss()\n",
    "        self.save_hyperparameters() ##added here\n",
    "        self.train_acc=torchmetrics.Accuracy()\n",
    "        self.valid_acc=torchmetrics.Accuracy()\n",
    "        self.test_acc=torchmetrics.Accuracy()\n",
    "        wandb.watch(self.bert,self.criterion,log='all')\n",
    "\n",
    "    def forward(self, input_ids, attention_mask, labels=None):\n",
    "        output = self.bert(input_ids, attention_mask=attention_mask)\n",
    "        #print(\"hello2\")\n",
    "        #print('output.pooler_output',output.pooler_output.shape)\n",
    "        output = self.classifier(output.pooler_output)\n",
    "        #print(\"hello3\")\n",
    "        #print(\"output shape after linear layer\", output.shape)  # (4,6630)\n",
    "        # output = torch.sigmoid(output)\n",
    "        # output = nn.ReLU(output)\n",
    "        # output = torch.sigmoid(output)\n",
    "        output = self.func(output)\n",
    "        # output=torch.exp(output)\n",
    "        #print(\"the output of activation function is\", output)  # (4,6330)\n",
    "        #print(\n",
    "            #\"output size of activation function is\", output.size()\n",
    "        #)  # torch.Size([1, 21])\n",
    "        loss = 0\n",
    "        # print('labels and label shape are',labels,labels.shape)\n",
    "        #print(\"hello3\")\n",
    "        #print(\"shape of labels is \", labels.size())  # (4,21)\n",
    "        #print(\"labels are:\", labels)\n",
    "        \n",
    "        if labels is not None:\n",
    "            #print(\"output type\", type(output))\n",
    "            #print(\"labels type\", labels)\n",
    "            loss = self.criterion(output, labels) # the problem is here?\n",
    "        return loss, output\n",
    "    \n",
    "    \n",
    "        #print(\"hello5\")\n",
    "        # print(batch.size())\n",
    "        ### it stops here\n",
    "\n",
    "    def training_step(self, batch, batch_idx):\n",
    "        #print(\"hello6\")\n",
    "        input_ids = batch[\"input_ids\"]\n",
    "        #print(input_ids.shape)\n",
    "        attention_mask = batch[\"attention_mask\"]\n",
    "        #print(attention_mask.shape)\n",
    "        labels = batch[\"labels\"]\n",
    "        #print(labels.shape)\n",
    "        loss, outputs = self(input_ids, attention_mask, labels)\n",
    "        self.log(\"train_loss\", loss, prog_bar=True, logger=True,on_epoch=True)\n",
    "        wandb.log({\"train_loss\": loss, \"epochs\": N_EPOCHS}) ##added here\n",
    "        return {\"loss\": loss, \"predictions\": outputs, \"labels\": labels}\n",
    "\n",
    "    def validation_step(self, batch, batch_idx):\n",
    "        input_ids = batch[\"input_ids\"]\n",
    "        attention_mask = batch[\"attention_mask\"]\n",
    "        labels = batch[\"labels\"]\n",
    "        loss, outputs = self(input_ids, attention_mask, labels)\n",
    "        self.log(\"val_loss\", loss, prog_bar=True, logger=True)\n",
    "        return loss\n",
    "\n",
    "    def test_step(self, batch, batch_idx):\n",
    "        input_ids = batch[\"input_ids\"]\n",
    "        attention_mask = batch[\"attention_mask\"]\n",
    "        labels = batch[\"labels\"]\n",
    "        loss, outputs = self(input_ids, attention_mask, labels)\n",
    "        self.log(\"test_loss\", loss, prog_bar=True, logger=True)\n",
    "        #wandb.log({\"test_loss\": loss, \"epochs\": N_EPOCHS}) #added this\n",
    "        return loss\n",
    "\n",
    "    def training_epoch_end(self, outputs):\n",
    "        labels = []\n",
    "        predictions = []\n",
    "        for output in outputs:\n",
    "            for out_labels in output[\"labels\"].detach().cpu():\n",
    "                labels.append(out_labels)\n",
    "            for out_predictions in output[\"predictions\"].detach().cpu():\n",
    "                predictions.append(out_predictions)\n",
    "        labels = torch.stack(labels).int()\n",
    "        predictions = torch.stack(predictions)\n",
    "        #model_filename='model_final_bert.onnx' ## I added this\n",
    "        #torch.onnx.export(self,predictions,model_filename)\n",
    "        #wandb.save(model_filename)\n",
    "        \n",
    "        \n",
    "#         for i, name in enumerate(LABEL_COLUMNS):\n",
    "#             class_roc_auc = auroc(predictions[:, i], labels[:, i])\n",
    "#             self.logger.experiment.add_scalar(\n",
    "#                 f\"{name}_roc_auc/Train\", class_roc_auc, self.current_epoch\n",
    "#             )\n",
    "\n",
    "    def configure_optimizers(self):\n",
    "        optimizer = AdamW(self.parameters(), lr=2e-5)\n",
    "        scheduler = get_linear_schedule_with_warmup(\n",
    "            optimizer,\n",
    "            num_warmup_steps=self.n_warmup_steps,\n",
    "            num_training_steps=self.n_training_steps,\n",
    "        )\n",
    "        return dict(\n",
    "            optimizer=optimizer, lr_scheduler=dict(scheduler=scheduler, interval=\"step\")\n",
    "        )\n",
    "#LitMLP.training_step=training_step()\n",
    "#LitMLP.configure_optimizers=configure_optimizers()\n",
    "#LitMLP.test_step=test_step()\n",
    "#LitMLP.test_epoch_end=test_epoch_end()"
   ]
  },
  {
   "cell_type": "markdown",
   "id": "5eb29afa",
   "metadata": {},
   "source": [
    "Optimizer"
   ]
  },
  {
   "cell_type": "code",
   "execution_count": 395,
   "id": "9c18944c",
   "metadata": {},
   "outputs": [
    {
     "data": {
      "text/plain": [
       "(4814, 24072)"
      ]
     },
     "execution_count": 395,
     "metadata": {},
     "output_type": "execute_result"
    }
   ],
   "source": [
    "steps_per_epoch=len(train_df) // BATCH_SIZE\n",
    "total_training_steps = steps_per_epoch * N_EPOCHS\n",
    "warmup_steps = total_training_steps // 5\n",
    "warmup_steps, total_training_steps"
   ]
  },
  {
   "cell_type": "code",
   "execution_count": 396,
   "id": "4c8d195e",
   "metadata": {},
   "outputs": [
    {
     "name": "stderr",
     "output_type": "stream",
     "text": [
      "Some weights of the model checkpoint at bert-base-cased were not used when initializing BertModel: ['cls.predictions.transform.LayerNorm.weight', 'cls.predictions.transform.dense.weight', 'cls.predictions.decoder.weight', 'cls.seq_relationship.weight', 'cls.seq_relationship.bias', 'cls.predictions.transform.dense.bias', 'cls.predictions.bias', 'cls.predictions.transform.LayerNorm.bias']\n",
      "- This IS expected if you are initializing BertModel from the checkpoint of a model trained on another task or with another architecture (e.g. initializing a BertForSequenceClassification model from a BertForPreTraining model).\n",
      "- This IS NOT expected if you are initializing BertModel from the checkpoint of a model that you expect to be exactly identical (initializing a BertForSequenceClassification model from a BertForSequenceClassification model).\n"
     ]
    }
   ],
   "source": [
    "model = ToxicCommentTagger(\n",
    "  #n_classes=21,\n",
    "  n_classes=21, \n",
    "  n_warmup_steps=warmup_steps,\n",
    "  n_training_steps=total_training_steps\n",
    ")"
   ]
  },
  {
   "cell_type": "markdown",
   "id": "862916bb",
   "metadata": {},
   "source": [
    "training"
   ]
  },
  {
   "cell_type": "code",
   "execution_count": 397,
   "id": "59162963",
   "metadata": {},
   "outputs": [],
   "source": [
    "checkpoint_filepath = '/tmp/checkpoint'\n",
    "\n",
    "checkpoint_callback = ModelCheckpoint(\n",
    "  #filepath=checkpoint_filepath,\n",
    "  dirpath=\"checkpoint_filepath\",\n",
    "  filename=\"best-checkpoint\",\n",
    "  save_top_k=1,\n",
    "  verbose=True,\n",
    "  monitor=\"val_loss\",\n",
    "  mode=\"min\"\n",
    ")"
   ]
  },
  {
   "cell_type": "code",
   "execution_count": 398,
   "id": "d3b49d97",
   "metadata": {},
   "outputs": [],
   "source": [
    "#logger = TensorBoardLogger(\"lightning_logs\", name=\"bert_model\")"
   ]
  },
  {
   "cell_type": "code",
   "execution_count": 399,
   "id": "33b718c7",
   "metadata": {},
   "outputs": [],
   "source": [
    "from pytorch_lightning.loggers import WandbLogger"
   ]
  },
  {
   "cell_type": "code",
   "execution_count": 400,
   "id": "be91d234",
   "metadata": {},
   "outputs": [],
   "source": [
    "logger=WandbLogger(project='bert_text_classification_s')"
   ]
  },
  {
   "cell_type": "code",
   "execution_count": 401,
   "id": "e944c835",
   "metadata": {},
   "outputs": [],
   "source": [
    "early_stopping_callback = EarlyStopping(monitor='val_loss', patience=4)"
   ]
  },
  {
   "cell_type": "code",
   "execution_count": 402,
   "id": "84ed19d0",
   "metadata": {},
   "outputs": [
    {
     "name": "stderr",
     "output_type": "stream",
     "text": [
      "GPU available: False, used: False\n",
      "TPU available: False, using: 0 TPU cores\n",
      "IPU available: False, using: 0 IPUs\n",
      "HPU available: False, using: 0 HPUs\n"
     ]
    }
   ],
   "source": [
    "os.environ[\"TOKENIZERS_PARALLELISM\"] = \"false\"\n",
    "\n",
    "trainer = pl.Trainer(\n",
    "  logger=logger,\n",
    "  #checkpoint_callback=checkpoint_callback,\n",
    "  #callbacks=[early_stopping_callback],\n",
    "  callbacks=[early_stopping_callback, checkpoint_callback],\n",
    "  max_epochs=8,\n",
    "  accelerator = 'cpu',\n",
    "  #progress_bar_refresh_rate=30\n",
    ")"
   ]
  },
  {
   "cell_type": "code",
   "execution_count": 403,
   "id": "c12ebbc1",
   "metadata": {},
   "outputs": [
    {
     "name": "stderr",
     "output_type": "stream",
     "text": [
      "\n",
      "  | Name       | Type             | Params\n",
      "------------------------------------------------\n",
      "0 | bert       | BertModel        | 108 M \n",
      "1 | classifier | Linear           | 16.1 K\n",
      "2 | func       | Softmax          | 0     \n",
      "3 | criterion  | CrossEntropyLoss | 0     \n",
      "4 | train_acc  | Accuracy         | 0     \n",
      "5 | valid_acc  | Accuracy         | 0     \n",
      "6 | test_acc   | Accuracy         | 0     \n",
      "------------------------------------------------\n",
      "108 M     Trainable params\n",
      "0         Non-trainable params\n",
      "108 M     Total params\n",
      "433.306   Total estimated model params size (MB)\n"
     ]
    },
    {
     "data": {
      "application/vnd.jupyter.widget-view+json": {
       "model_id": "",
       "version_major": 2,
       "version_minor": 0
      },
      "text/plain": [
       "Sanity Checking: 0it [00:00, ?it/s]"
      ]
     },
     "metadata": {},
     "output_type": "display_data"
    },
    {
     "data": {
      "application/vnd.jupyter.widget-view+json": {
       "model_id": "5128152e7c444a4dafabdedabc18ae64",
       "version_major": 2,
       "version_minor": 0
      },
      "text/plain": [
       "Training: 0it [00:00, ?it/s]"
      ]
     },
     "metadata": {},
     "output_type": "display_data"
    },
    {
     "data": {
      "application/vnd.jupyter.widget-view+json": {
       "model_id": "",
       "version_major": 2,
       "version_minor": 0
      },
      "text/plain": [
       "Validation: 0it [00:00, ?it/s]"
      ]
     },
     "metadata": {},
     "output_type": "display_data"
    },
    {
     "name": "stderr",
     "output_type": "stream",
     "text": [
      "Epoch 0, global step 3009: 'val_loss' reached 2.68344 (best 2.68344), saving model to '/Users/saranobrega/Desktop/test_pl/outsmart-text-classifier/checkpoint_filepath/best-checkpoint-v2.ckpt' as top 1\n"
     ]
    },
    {
     "data": {
      "application/vnd.jupyter.widget-view+json": {
       "model_id": "",
       "version_major": 2,
       "version_minor": 0
      },
      "text/plain": [
       "Validation: 0it [00:00, ?it/s]"
      ]
     },
     "metadata": {},
     "output_type": "display_data"
    },
    {
     "name": "stderr",
     "output_type": "stream",
     "text": [
      "Epoch 1, global step 6018: 'val_loss' was not in top 1\n"
     ]
    },
    {
     "data": {
      "application/vnd.jupyter.widget-view+json": {
       "model_id": "",
       "version_major": 2,
       "version_minor": 0
      },
      "text/plain": [
       "Validation: 0it [00:00, ?it/s]"
      ]
     },
     "metadata": {},
     "output_type": "display_data"
    },
    {
     "name": "stderr",
     "output_type": "stream",
     "text": [
      "Epoch 2, global step 9027: 'val_loss' was not in top 1\n"
     ]
    },
    {
     "data": {
      "application/vnd.jupyter.widget-view+json": {
       "model_id": "",
       "version_major": 2,
       "version_minor": 0
      },
      "text/plain": [
       "Validation: 0it [00:00, ?it/s]"
      ]
     },
     "metadata": {},
     "output_type": "display_data"
    },
    {
     "name": "stderr",
     "output_type": "stream",
     "text": [
      "Epoch 3, global step 12036: 'val_loss' reached 2.65029 (best 2.65029), saving model to '/Users/saranobrega/Desktop/test_pl/outsmart-text-classifier/checkpoint_filepath/best-checkpoint-v2.ckpt' as top 1\n"
     ]
    },
    {
     "data": {
      "application/vnd.jupyter.widget-view+json": {
       "model_id": "",
       "version_major": 2,
       "version_minor": 0
      },
      "text/plain": [
       "Validation: 0it [00:00, ?it/s]"
      ]
     },
     "metadata": {},
     "output_type": "display_data"
    },
    {
     "name": "stderr",
     "output_type": "stream",
     "text": [
      "Epoch 4, global step 15045: 'val_loss' reached 2.60575 (best 2.60575), saving model to '/Users/saranobrega/Desktop/test_pl/outsmart-text-classifier/checkpoint_filepath/best-checkpoint-v2.ckpt' as top 1\n"
     ]
    },
    {
     "data": {
      "application/vnd.jupyter.widget-view+json": {
       "model_id": "",
       "version_major": 2,
       "version_minor": 0
      },
      "text/plain": [
       "Validation: 0it [00:00, ?it/s]"
      ]
     },
     "metadata": {},
     "output_type": "display_data"
    },
    {
     "name": "stderr",
     "output_type": "stream",
     "text": [
      "Epoch 5, global step 18054: 'val_loss' was not in top 1\n"
     ]
    },
    {
     "data": {
      "application/vnd.jupyter.widget-view+json": {
       "model_id": "",
       "version_major": 2,
       "version_minor": 0
      },
      "text/plain": [
       "Validation: 0it [00:00, ?it/s]"
      ]
     },
     "metadata": {},
     "output_type": "display_data"
    },
    {
     "name": "stderr",
     "output_type": "stream",
     "text": [
      "Epoch 6, global step 21063: 'val_loss' was not in top 1\n"
     ]
    },
    {
     "data": {
      "application/vnd.jupyter.widget-view+json": {
       "model_id": "",
       "version_major": 2,
       "version_minor": 0
      },
      "text/plain": [
       "Validation: 0it [00:00, ?it/s]"
      ]
     },
     "metadata": {},
     "output_type": "display_data"
    },
    {
     "name": "stderr",
     "output_type": "stream",
     "text": [
      "Epoch 7, global step 24072: 'val_loss' reached 2.60018 (best 2.60018), saving model to '/Users/saranobrega/Desktop/test_pl/outsmart-text-classifier/checkpoint_filepath/best-checkpoint-v2.ckpt' as top 1\n",
      "`Trainer.fit` stopped: `max_epochs=8` reached.\n"
     ]
    }
   ],
   "source": [
    "trainer.fit(model, data_module)"
   ]
  },
  {
   "cell_type": "markdown",
   "id": "772bd0a3",
   "metadata": {},
   "source": [
    "Evaluation"
   ]
  },
  {
   "cell_type": "code",
   "execution_count": 404,
   "id": "b2da278a",
   "metadata": {},
   "outputs": [
    {
     "name": "stderr",
     "output_type": "stream",
     "text": [
      "Restoring states from the checkpoint path at /Users/saranobrega/Desktop/test_pl/outsmart-text-classifier/checkpoint_filepath/best-checkpoint-v2.ckpt\n",
      "Loaded model weights from checkpoint at /Users/saranobrega/Desktop/test_pl/outsmart-text-classifier/checkpoint_filepath/best-checkpoint-v2.ckpt\n"
     ]
    },
    {
     "data": {
      "application/vnd.jupyter.widget-view+json": {
       "model_id": "40a9daed426f47a4a54d80c54d2d517a",
       "version_major": 2,
       "version_minor": 0
      },
      "text/plain": [
       "Testing: 0it [00:00, ?it/s]"
      ]
     },
     "metadata": {},
     "output_type": "display_data"
    },
    {
     "name": "stdout",
     "output_type": "stream",
     "text": [
      "────────────────────────────────────────────────────────────────────────────────────────────────────────────────────────\n",
      "       Test metric             DataLoader 0\n",
      "────────────────────────────────────────────────────────────────────────────────────────────────────────────────────────\n",
      "        test_loss            2.60017991065979\n",
      "────────────────────────────────────────────────────────────────────────────────────────────────────────────────────────\n"
     ]
    },
    {
     "data": {
      "text/plain": [
       "[{'test_loss': 2.60017991065979}]"
      ]
     },
     "execution_count": 404,
     "metadata": {},
     "output_type": "execute_result"
    }
   ],
   "source": [
    "trainer.test(datamodule=data_module)"
   ]
  },
  {
   "cell_type": "code",
   "execution_count": 405,
   "id": "f8fbee8a",
   "metadata": {},
   "outputs": [
    {
     "data": {
      "text/html": [
       "Waiting for W&B process to finish... <strong style=\"color:green\">(success).</strong>"
      ],
      "text/plain": [
       "<IPython.core.display.HTML object>"
      ]
     },
     "metadata": {},
     "output_type": "display_data"
    },
    {
     "data": {
      "text/html": [
       "<style>\n",
       "    table.wandb td:nth-child(1) { padding: 0 10px; text-align: left ; width: auto;} td:nth-child(2) {text-align: left ; width: 100%}\n",
       "    .wandb-row { display: flex; flex-direction: row; flex-wrap: wrap; justify-content: flex-start; width: 100% }\n",
       "    .wandb-col { display: flex; flex-direction: column; flex-basis: 100%; flex: 1; padding: 10px; }\n",
       "    </style>\n",
       "<div class=\"wandb-row\"><div class=\"wandb-col\"><h3>Run history:</h3><br/><table class=\"wandb\"><tr><td>epoch</td><td>▁▁▁▁▁▂▂▂▂▂▃▃▃▃▃▄▄▄▄▄▅▅▅▅▅▆▆▆▆▆▇▇▇▇▇█████</td></tr><tr><td>test_loss</td><td>▁</td></tr><tr><td>train_loss_epoch</td><td>█▄▅▃▂▂▂▁</td></tr><tr><td>train_loss_step</td><td>████▁██▁█▁▁████▁█▆▃█▁█▁██▁█▁▁█▁█▁▁█▇▁▁█▇</td></tr><tr><td>trainer/global_step</td><td>▁▁▁▂▂▂▂▂▂▃▃▃▃▃▄▄▄▄▄▄▅▅▅▅▅▅▆▆▆▆▆▇▇▇▇▇▇███</td></tr><tr><td>val_loss</td><td>▅█▇▃▁▄▂▁</td></tr></table><br/></div><div class=\"wandb-col\"><h3>Run summary:</h3><br/><table class=\"wandb\"><tr><td>epoch</td><td>7</td></tr><tr><td>test_loss</td><td>2.60018</td></tr><tr><td>train_loss_epoch</td><td>2.65653</td></tr><tr><td>train_loss_step</td><td>3.10458</td></tr><tr><td>trainer/global_step</td><td>24072</td></tr><tr><td>val_loss</td><td>2.60018</td></tr></table><br/></div></div>"
      ],
      "text/plain": [
       "<IPython.core.display.HTML object>"
      ]
     },
     "metadata": {},
     "output_type": "display_data"
    },
    {
     "data": {
      "text/html": [
       "Synced <strong style=\"color:#cdcd00\">fancy-meadow-10</strong>: <a href=\"https://wandb.ai/workist/bert_text_classification_s/runs/j06072ei\" target=\"_blank\">https://wandb.ai/workist/bert_text_classification_s/runs/j06072ei</a><br/>Synced 5 W&B file(s), 0 media file(s), 0 artifact file(s) and 0 other file(s)"
      ],
      "text/plain": [
       "<IPython.core.display.HTML object>"
      ]
     },
     "metadata": {},
     "output_type": "display_data"
    },
    {
     "data": {
      "text/html": [
       "Find logs at: <code>./wandb/run-20221115_221449-j06072ei/logs</code>"
      ],
      "text/plain": [
       "<IPython.core.display.HTML object>"
      ]
     },
     "metadata": {},
     "output_type": "display_data"
    }
   ],
   "source": [
    "wandb.finish()"
   ]
  },
  {
   "cell_type": "code",
   "execution_count": null,
   "id": "333745a3",
   "metadata": {},
   "outputs": [],
   "source": []
  },
  {
   "cell_type": "code",
   "execution_count": null,
   "id": "45ef0396",
   "metadata": {},
   "outputs": [],
   "source": []
  }
 ],
 "metadata": {
  "kernelspec": {
   "display_name": "Python 3 (ipykernel)",
   "language": "python",
   "name": "python3"
  },
  "language_info": {
   "codemirror_mode": {
    "name": "ipython",
    "version": 3
   },
   "file_extension": ".py",
   "mimetype": "text/x-python",
   "name": "python",
   "nbconvert_exporter": "python",
   "pygments_lexer": "ipython3",
   "version": "3.9.15"
  }
 },
 "nbformat": 4,
 "nbformat_minor": 5
}
